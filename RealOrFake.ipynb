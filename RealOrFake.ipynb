{
  "nbformat": 4,
  "nbformat_minor": 0,
  "metadata": {
    "colab": {
      "provenance": [],
      "mount_file_id": "1UNa5--13kpU3ruPmbIxyt0Aq1pSk1jRi",
      "authorship_tag": "ABX9TyNukpoNn4nblX09kghbPQpK",
      "include_colab_link": true
    },
    "kernelspec": {
      "name": "python3",
      "display_name": "Python 3"
    },
    "language_info": {
      "name": "python"
    }
  },
  "cells": [
    {
      "cell_type": "markdown",
      "metadata": {
        "id": "view-in-github",
        "colab_type": "text"
      },
      "source": [
        "<a href=\"https://colab.research.google.com/github/chloepalin/chloepalin.github.io/blob/master/RealOrFake.ipynb\" target=\"_parent\"><img src=\"https://colab.research.google.com/assets/colab-badge.svg\" alt=\"Open In Colab\"/></a>"
      ]
    },
    {
      "cell_type": "code",
      "source": [
        "from google.colab import drive\n",
        "drive.mount('/content/gdrive')"
      ],
      "metadata": {
        "colab": {
          "base_uri": "https://localhost:8080/"
        },
        "id": "Qvjn2SZCQgws",
        "outputId": "d908e9b7-6815-4de2-c66a-c42dbc82598d"
      },
      "execution_count": 18,
      "outputs": [
        {
          "output_type": "stream",
          "name": "stdout",
          "text": [
            "Mounted at /content/gdrive\n"
          ]
        }
      ]
    },
    {
      "cell_type": "code",
      "source": [
        "!ls gdrive/MyDrive\n"
      ],
      "metadata": {
        "id": "-xk253huQsBv",
        "colab": {
          "base_uri": "https://localhost:8080/"
        },
        "outputId": "b872a276-8089-4d89-ccbc-a634d7c3813c"
      },
      "execution_count": 19,
      "outputs": [
        {
          "output_type": "stream",
          "name": "stdout",
          "text": [
            " animal_classifier.zip\n",
            "'CHLOE PERSONAL USB'\n",
            " ciimages.zip\n",
            "'Colab Notebooks'\n",
            " CSSE3010\n",
            "'Design and Development of an Assistive Technology Device for Enhancing the Running Performance of Blind Athletes.gdoc'\n",
            "'Design and Development of an Assistive Technology Device for Enhancing the Running Performance of Blind Athleteshesis.gdoc'\n",
            "'dino code.gdoc'\n",
            "'EA competencies.gdoc'\n",
            " ENGG4900\n",
            "'Engineering reflections.gdoc'\n",
            "'FIRST YEAR'\n",
            "'gui for ELEC4630 a2.3.gdoc'\n",
            " HBI\n",
            " HOUSE\n",
            "'How to become a chartered engineer.gdoc'\n",
            "'LAB4 BIOE6403.gdoc'\n",
            "'Market Analysis and sales forecast..gdoc'\n",
            " milestone.pdf\n",
            " ProgressSem1.pptx\n",
            "'Project brief for my thesis.gdoc'\n",
            "'Proposal Draft.gdoc'\n",
            " RANDOM\n",
            "'SECOND YEAR'\n",
            "'sem participation.pdf'\n",
            " thesis\n",
            "'Thesis Idea Development.gdoc'\n",
            "'THIRD YEAR'\n",
            "'Untitled document (1).gdoc'\n",
            "'Untitled document (2).gdoc'\n",
            "'Untitled document (3).gdoc'\n",
            "'Untitled document (4).gdoc'\n",
            "'Untitled document (5).gdoc'\n",
            "'Untitled document (6).gdoc'\n",
            "'Untitled document.gdoc'\n",
            " workdiagramss4.pdf\n"
          ]
        }
      ]
    },
    {
      "cell_type": "code",
      "source": [
        "import os\n",
        "import random\n",
        "import shutil\n",
        "\n",
        "TRAIN_DATA_DIRECTORY = '/content/train'\n",
        "TRAIN_REAL_DIRECTORY = '/content/train/REAL'\n",
        "TRAIN_FAKE_DIRECTORY = '/content/train/FAKE'\n",
        "\n",
        "TEST_DATA_DIRECTORY = '/content/test'\n",
        "TEST_REAL_DIRECTORY = '/content/test/REAL'\n",
        "TEST_FAKE_DIRECTORY = '/content/test/FAKE'\n",
        "\n"
      ],
      "metadata": {
        "id": "Zt19WWyhSDuO"
      },
      "execution_count": 20,
      "outputs": []
    },
    {
      "cell_type": "code",
      "source": [
        "import tensorflow as tf\n",
        "\n",
        "img_height = 32 # The dataset is all 32px but this is here just to make sure\n",
        "img_width = 32\n",
        "batch_size = 32\n",
        "\n",
        "# Load the training data\n",
        "train_ds = tf.keras.utils.image_dataset_from_directory(\n",
        "  TRAIN_DATA_DIRECTORY,\n",
        "  seed=123,\n",
        "  image_size=(img_height, img_width),\n",
        "  batch_size=batch_size)\n",
        "\n",
        "# Load the validation data\n",
        "val_ds = tf.keras.utils.image_dataset_from_directory(\n",
        "  TEST_DATA_DIRECTORY,\n",
        "  seed=123,\n",
        "  image_size=(img_height, img_width),\n",
        "  batch_size=batch_size)\n",
        "\n",
        "# Quick sanity check to make sure it's all loaded properly\n",
        "print(\"Test:\")\n",
        "class_names = train_ds.class_names\n",
        "print(class_names)\n",
        "\n",
        "print(\"Train:\")\n",
        "class_names = train_ds.class_names\n",
        "print(class_names)"
      ],
      "metadata": {
        "colab": {
          "base_uri": "https://localhost:8080/"
        },
        "id": "JNvE94ugJb0X",
        "outputId": "536e7d4e-d561-40a4-c364-e9e833aa6a74"
      },
      "execution_count": 21,
      "outputs": [
        {
          "output_type": "stream",
          "name": "stdout",
          "text": [
            "Found 100000 files belonging to 2 classes.\n",
            "Found 20000 files belonging to 2 classes.\n",
            "Test:\n",
            "['FAKE', 'REAL']\n",
            "Train:\n",
            "['FAKE', 'REAL']\n"
          ]
        }
      ]
    },
    {
      "cell_type": "code",
      "source": [
        "import tensorflow as tf\n",
        "\n",
        "# Resize the images\n",
        "train_ds = train_ds.map(lambda x, y: (tf.image.resize(x, (img_height, img_width)), y))\n",
        "val_ds = val_ds.map(lambda x, y: (tf.image.resize(x, (img_height, img_width)), y))\n",
        "\n",
        "# Normalize pixel values\n",
        "train_ds = train_ds.map(lambda x, y: (x / 255.0, y))\n",
        "val_ds = val_ds.map(lambda x, y: (x / 255.0, y))\n",
        "\n",
        "# Apply data augmentation to training data\n",
        "data_augmentation = tf.keras.Sequential([\n",
        "    tf.keras.layers.experimental.preprocessing.RandomFlip(\"horizontal\"),\n",
        "    tf.keras.layers.experimental.preprocessing.RandomRotation(0.2),\n",
        "    tf.keras.layers.experimental.preprocessing.RandomZoom(0.2),\n",
        "])\n",
        "\n",
        "train_ds = train_ds.map(lambda x, y: (data_augmentation(x, training=True), y))\n",
        "\n",
        "# Configure the dataset for performance\n",
        "train_ds = train_ds.cache().shuffle(1000).prefetch(buffer_size=tf.data.AUTOTUNE)\n",
        "val_ds = val_ds.cache().prefetch(buffer_size=tf.data.AUTOTUNE)\n"
      ],
      "metadata": {
        "id": "sIBaQbrTKETn"
      },
      "execution_count": 22,
      "outputs": []
    },
    {
      "cell_type": "code",
      "source": [
        "import tensorflow as tf\n",
        "\n",
        "# Define the model architecture\n",
        "model = tf.keras.Sequential([\n",
        "    tf.keras.layers.Conv2D(32, (3, 3), activation='relu', input_shape=(img_height, img_width, 3)),\n",
        "    tf.keras.layers.MaxPooling2D((2, 2)),\n",
        "    tf.keras.layers.Conv2D(64, (3, 3), activation='relu'),\n",
        "    tf.keras.layers.MaxPooling2D((2, 2)),\n",
        "    tf.keras.layers.Conv2D(128, (3, 3), activation='relu'),\n",
        "    tf.keras.layers.MaxPooling2D((2, 2)),\n",
        "    tf.keras.layers.Flatten(),\n",
        "    tf.keras.layers.Dense(64, activation='relu'),\n",
        "    tf.keras.layers.Dense(1, activation='sigmoid')\n",
        "])\n",
        "\n",
        "# Compile the model\n",
        "model.compile(optimizer='adam',\n",
        "              loss=tf.keras.losses.BinaryCrossentropy(),\n",
        "              metrics=['accuracy'])\n",
        "\n",
        "# Train the model\n",
        "history = model.fit(train_ds, validation_data=val_ds, epochs=3)\n",
        "\n",
        "# Evaluate the model\n",
        "loss, accuracy = model.evaluate(val_ds)\n",
        "print(\"Loss:\", loss)\n",
        "print(\"Accuracy:\", accuracy)\n"
      ],
      "metadata": {
        "colab": {
          "base_uri": "https://localhost:8080/"
        },
        "id": "vgTj3FDLKW7m",
        "outputId": "6c7cf060-acb6-4f56-8c25-9f66b044a864"
      },
      "execution_count": 23,
      "outputs": [
        {
          "output_type": "stream",
          "name": "stdout",
          "text": [
            "Epoch 1/3\n",
            "3125/3125 [==============================] - 200s 60ms/step - loss: 0.4887 - accuracy: 0.7600 - val_loss: 0.5267 - val_accuracy: 0.7613\n",
            "Epoch 2/3\n",
            "3125/3125 [==============================] - 159s 51ms/step - loss: 0.3964 - accuracy: 0.8192 - val_loss: 0.4234 - val_accuracy: 0.8081\n",
            "Epoch 3/3\n",
            "3125/3125 [==============================] - 157s 50ms/step - loss: 0.3479 - accuracy: 0.8453 - val_loss: 0.4046 - val_accuracy: 0.8301\n",
            "625/625 [==============================] - 8s 13ms/step - loss: 0.4046 - accuracy: 0.8301\n",
            "Loss: 0.40464159846305847\n",
            "Accuracy: 0.8300999999046326\n"
          ]
        }
      ]
    },
    {
      "cell_type": "code",
      "source": [
        "import numpy as np\n",
        "import matplotlib.pyplot as plt\n",
        "from sklearn.metrics import confusion_matrix, classification_report\n",
        "\n",
        "# Load the test data\n",
        "test_ds = tf.keras.utils.image_dataset_from_directory(\n",
        "  TEST_DATA_DIRECTORY,\n",
        "  seed=123,\n",
        "  image_size=(img_height, img_width),\n",
        "  batch_size=batch_size\n",
        ")\n",
        "\n",
        "# Preprocess the test data\n",
        "test_ds = test_ds.map(lambda x, y: (x / 255.0, y))\n",
        "\n",
        "# Extract true labels from the test dataset\n",
        "y_true = np.concatenate([y for x, y in test_ds], axis=0)\n",
        "\n",
        "# Make predictions on the test data\n",
        "y_pred = model.predict(test_ds)\n",
        "y_pred = np.squeeze(y_pred)  # Flatten the predictions\n",
        "\n",
        "# Convert predictions to class labels\n",
        "y_pred_labels = np.round(y_pred).astype(int)\n",
        "\n",
        "# Generate confusion matrix\n",
        "cm = confusion_matrix(y_true, y_pred_labels)\n",
        "print(\"Confusion Matrix:\")\n",
        "print(cm)\n",
        "\n",
        "# Plot the confusion matrix\n",
        "plt.figure(figsize=(8, 6))\n",
        "plt.imshow(cm, cmap=plt.cm.Blues)\n",
        "plt.title(\"Confusion Matrix\")\n",
        "plt.xlabel(\"Predicted Labels\")\n",
        "plt.ylabel(\"True Labels\")\n",
        "plt.xticks(np.arange(len(class_names)), class_names, rotation=45)\n",
        "plt.yticks(np.arange(len(class_names)), class_names)\n",
        "plt.colorbar()\n",
        "\n",
        "plt.show()\n"
      ],
      "metadata": {
        "colab": {
          "base_uri": "https://localhost:8080/",
          "height": 672
        },
        "id": "s1kB4U1dPTbT",
        "outputId": "e142856c-4855-4fc2-c036-0dd12093da32"
      },
      "execution_count": 27,
      "outputs": [
        {
          "output_type": "stream",
          "name": "stdout",
          "text": [
            "Found 20000 files belonging to 2 classes.\n",
            "625/625 [==============================] - 11s 18ms/step\n",
            "Confusion Matrix:\n",
            "[[6433 3567]\n",
            " [6381 3619]]\n"
          ]
        },
        {
          "output_type": "display_data",
          "data": {
            "text/plain": [
              "<Figure size 800x600 with 2 Axes>"
            ],
            "image/png": "[encoded data removed]"
          },
          "metadata": {}
        }
      ]
    }
  ]
}