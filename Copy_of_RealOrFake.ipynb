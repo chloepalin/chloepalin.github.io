{
  "nbformat": 4,
  "nbformat_minor": 0,
  "metadata": {
    "colab": {
      "provenance": [],
      "gpuType": "T4",
      "mount_file_id": "1UNa5--13kpU3ruPmbIxyt0Aq1pSk1jRi",
      "authorship_tag": "ABX9TyNz8+q17sNRUSZHYXanwlp4",
      "include_colab_link": true
    },
    "kernelspec": {
      "name": "python3",
      "display_name": "Python 3"
    },
    "language_info": {
      "name": "python"
    },
    "accelerator": "GPU",
    "gpuClass": "standard"
  },
  "cells": [
    {
      "cell_type": "markdown",
      "metadata": {
        "id": "view-in-github",
        "colab_type": "text"
      },
      "source": [
        "<a href=\"https://colab.research.google.com/github/chloepalin/chloepalin.github.io/blob/master/Copy_of_RealOrFake.ipynb\" target=\"_parent\"><img src=\"https://colab.research.google.com/assets/colab-badge.svg\" alt=\"Open In Colab\"/></a>"
      ]
    },
    {
      "cell_type": "code",
      "source": [
        "from google.colab import drive\n",
        "drive.mount('/content/gdrive')"
      ],
      "metadata": {
        "colab": {
          "base_uri": "https://localhost:8080/"
        },
        "id": "Qvjn2SZCQgws",
        "outputId": "7f4e333a-d17e-482f-af91-0c95baf9f9b4"
      },
      "execution_count": 1,
      "outputs": [
        {
          "output_type": "stream",
          "name": "stdout",
          "text": [
            "Drive already mounted at /content/gdrive; to attempt to forcibly remount, call drive.mount(\"/content/gdrive\", force_remount=True).\n"
          ]
        }
      ]
    },
    {
      "cell_type": "code",
      "source": [
        "!ls gdrive/MyDrive\n"
      ],
      "metadata": {
        "id": "-xk253huQsBv",
        "colab": {
          "base_uri": "https://localhost:8080/"
        },
        "outputId": "079e2b9d-51fc-4701-9bae-5279ae0e58aa"
      },
      "execution_count": 2,
      "outputs": [
        {
          "output_type": "stream",
          "name": "stdout",
          "text": [
            " animal_classifier.zip\n",
            "'archive (2).zip'\n",
            " archive.zip\n",
            "'CHLOE PERSONAL USB'\n",
            " ciimages.zip\n",
            "'Colab Notebooks'\n",
            " CSSE3010\n",
            "'Design and Development of an Assistive Technology Device for Enhancing the Running Performance of Blind Athletes.gdoc'\n",
            "'Design and Development of an Assistive Technology Device for Enhancing the Running Performance of Blind Athleteshesis.gdoc'\n",
            "'dino code.gdoc'\n",
            "'EA competencies.gdoc'\n",
            " ENGG4900\n",
            "'Engineering reflections.gdoc'\n",
            "'FIRST YEAR'\n",
            "'gui for ELEC4630 a2.3.gdoc'\n",
            " HBI\n",
            " HOUSE\n",
            "'How to become a chartered engineer.gdoc'\n",
            "'LAB4 BIOE6403.gdoc'\n",
            "'Market Analysis and sales forecast..gdoc'\n",
            " milestone.pdf\n",
            " ProgressSem1.pptx\n",
            "'Project brief for my thesis.gdoc'\n",
            "'Proposal Draft.gdoc'\n",
            " RANDOM\n",
            "'SECOND YEAR'\n",
            "'sem participation.pdf'\n",
            " test.zip\n",
            " thesis\n",
            "'Thesis Idea Development.gdoc'\n",
            "'THIRD YEAR'\n",
            "'Untitled document (1).gdoc'\n",
            "'Untitled document (2).gdoc'\n",
            "'Untitled document (3).gdoc'\n",
            "'Untitled document (4).gdoc'\n",
            "'Untitled document (5).gdoc'\n",
            "'Untitled document (6).gdoc'\n",
            "'Untitled document.gdoc'\n",
            " workdiagramss4.pdf\n"
          ]
        }
      ]
    },
    {
      "cell_type": "code",
      "source": [
        "!unzip gdrive/My\\ Drive/archive.zip"
      ],
      "metadata": {
        "id": "lpwIMvo1_5Td",
        "outputId": "3b63c439-2b74-4c1e-c2f0-5da25e1ba155",
        "colab": {
          "base_uri": "https://localhost:8080/"
        }
      },
      "execution_count": 3,
      "outputs": [
        {
          "output_type": "stream",
          "name": "stdout",
          "text": [
            "Archive:  gdrive/My Drive/archive.zip\n",
            "replace test/FAKE/0 (10).jpg? [y]es, [n]o, [A]ll, [N]one, [r]ename: N\n",
            "Archive:  gdrive/My Drive/test.zip\n",
            "replace FAKE/0 (10).jpg? [y]es, [n]o, [A]ll, [N]one, [r]ename: N\n"
          ]
        }
      ]
    },
    {
      "cell_type": "code",
      "source": [
        "import os\n",
        "import random\n",
        "import shutil\n",
        "\n",
        "TRAIN_DATA_DIRECTORY = '/content/train'\n",
        "TRAIN_REAL_DIRECTORY = '/content/train/REAL'\n",
        "TRAIN_FAKE_DIRECTORY = '/content/train/FAKE'\n",
        "\n",
        "TEST_DATA_DIRECTORY = '/content/test'\n",
        "TEST_REAL_DIRECTORY = '/content/test/REAL'\n",
        "TEST_FAKE_DIRECTORY = '/content/test/FAKE'\n"
      ],
      "metadata": {
        "id": "Zt19WWyhSDuO"
      },
      "execution_count": 27,
      "outputs": []
    },
    {
      "cell_type": "code",
      "source": [
        "\n",
        "import tensorflow as tf\n",
        "\n",
        "img_height = 32 # The dataset is all 32px but this is here just to make sure\n",
        "img_width = 32\n",
        "batch_size = 32\n",
        "\n",
        "# Load the training data\n",
        "train_ds = tf.keras.utils.image_dataset_from_directory(\n",
        "  TRAIN_DATA_DIRECTORY,\n",
        "  seed=123,\n",
        "  image_size=(img_height, img_width),\n",
        "  batch_size=batch_size)\n",
        "\n",
        "# Load the validation data\n",
        "val_ds = tf.keras.utils.image_dataset_from_directory(\n",
        "  TEST_DATA_DIRECTORY,\n",
        "  seed=123,\n",
        "  image_size=(img_height, img_width),\n",
        "  batch_size=batch_size)\n",
        "\n",
        "# Quick sanity check to make sure it's all loaded properly\n",
        "print(\"Training Classes:\")\n",
        "class_names = train_ds.class_names\n",
        "print(class_names)\n",
        "\n",
        "print(\"Testing Classes:\")\n",
        "class_names = train_ds.class_names\n",
        "print(class_names)"
      ],
      "metadata": {
        "id": "U51HlxHoAVCn",
        "outputId": "d6809953-71c3-4bde-aaa7-e9e01d740304",
        "colab": {
          "base_uri": "https://localhost:8080/"
        }
      },
      "execution_count": 55,
      "outputs": [
        {
          "output_type": "stream",
          "name": "stdout",
          "text": [
            "Found 100000 files belonging to 2 classes.\n",
            "Found 20000 files belonging to 2 classes.\n",
            "Training Classes:\n",
            "['FAKE', 'REAL']\n",
            "Testing Classes:\n",
            "['FAKE', 'REAL']\n"
          ]
        }
      ]
    },
    {
      "cell_type": "code",
      "source": [
        "train_datagen = tf.keras.preprocessing.image.ImageDataGenerator(rescale=1./255)\n",
        "test_datagen = tf.keras.preprocessing.image.ImageDataGenerator(rescale=1./255)\n",
        "\n",
        "train_datagen = train_datagen.flow_from_directory(\n",
        "    TRAIN_DATA_DIRECTORY,\n",
        "    batch_size=32,\n",
        "    target_size=(224, 224),\n",
        "    class_mode='binary',\n",
        "    seed=42\n",
        ")\n",
        "\n",
        "test_datagen = test_datagen.flow_from_directory(\n",
        "    TEST_DATA_DIRECTORY,\n",
        "    batch_size=32,\n",
        "    target_size=(224, 224),\n",
        "    class_mode='binary',\n",
        "    seed=42\n",
        ")"
      ],
      "metadata": {
        "colab": {
          "base_uri": "https://localhost:8080/"
        },
        "id": "5vtsEk3rOWLU",
        "outputId": "027012d7-f04d-4712-ed16-010e3e437c07"
      },
      "execution_count": 58,
      "outputs": [
        {
          "output_type": "stream",
          "name": "stdout",
          "text": [
            "Found 100000 images belonging to 2 classes.\n",
            "Found 20000 images belonging to 2 classes.\n"
          ]
        }
      ]
    },
    {
      "cell_type": "code",
      "source": [
        "model = tf.keras.Sequential([\n",
        "    tf.keras.layers.Conv2D(20, 3, activation='relu', input_shape=(224, 224, 3)),\n",
        "    tf.keras.layers.Conv2D(20, 3, activation='relu'),\n",
        "    tf.keras.layers.MaxPool2D(3, padding='valid'),\n",
        "    tf.keras.layers.Conv2D(20, 3, activation='relu'),\n",
        "    tf.keras.layers.Conv2D(20, 3, activation='relu'),\n",
        "    tf.keras.layers.MaxPool2D(3),\n",
        "    tf.keras.layers.Flatten(),\n",
        "    tf.keras.layers.Dense(1, activation='sigmoid')\n",
        "])\n",
        "\n",
        "model.compile(\n",
        "    optimizer='Adam',\n",
        "    loss='binary_crossentropy',\n",
        "    metrics=['accuracy']\n",
        ")\n",
        "\n",
        "history = model.fit(\n",
        "    train_datagen,\n",
        "    epochs=3,\n",
        "    steps_per_epoch=len(train_datagen),\n",
        "    validation_data=test_datagen,\n",
        "    validation_steps=int(0.25 * len(test_datagen))\n",
        ")"
      ],
      "metadata": {
        "colab": {
          "base_uri": "https://localhost:8080/"
        },
        "id": "lGmU11TsI_O9",
        "outputId": "484ffa93-60c6-476a-afb9-46ec6deab5ae"
      },
      "execution_count": 65,
      "outputs": [
        {
          "output_type": "stream",
          "name": "stdout",
          "text": [
            "Epoch 1/3\n",
            "3125/3125 [==============================] - 177s 56ms/step - loss: 0.3487 - accuracy: 0.8483 - val_loss: 0.3666 - val_accuracy: 0.8383\n",
            "Epoch 2/3\n",
            "3125/3125 [==============================] - 169s 54ms/step - loss: 0.2488 - accuracy: 0.9020 - val_loss: 0.2399 - val_accuracy: 0.9048\n",
            "Epoch 3/3\n",
            "3125/3125 [==============================] - 174s 56ms/step - loss: 0.2155 - accuracy: 0.9160 - val_loss: 0.2207 - val_accuracy: 0.9157\n"
          ]
        }
      ]
    },
    {
      "cell_type": "code",
      "source": [
        "model.evaluate(test_datagen)\n"
      ],
      "metadata": {
        "colab": {
          "base_uri": "https://localhost:8080/"
        },
        "id": "Vt_EwMH8RqnX",
        "outputId": "a2879f43-0533-404b-ec89-a6b5939b9417"
      },
      "execution_count": 67,
      "outputs": [
        {
          "output_type": "stream",
          "name": "stdout",
          "text": [
            "625/625 [==============================] - 28s 45ms/step - loss: 0.2249 - accuracy: 0.9102\n"
          ]
        },
        {
          "output_type": "execute_result",
          "data": {
            "text/plain": [
              "[0.22486920654773712, 0.9101999998092651]"
            ]
          },
          "metadata": {},
          "execution_count": 67
        }
      ]
    },
    {
      "cell_type": "code",
      "source": [
        "import numpy as np\n",
        "from google.colab import files\n",
        "from PIL import Image\n",
        "from tensorflow.keras.preprocessing import image\n",
        "\n",
        "uploaded = files.upload()\n",
        "\n",
        "for fn in uploaded.keys():\n",
        "    img_path = fn\n",
        "    img = Image.open(img_path)\n",
        "    img = img.resize((224, 224))\n",
        "    img = image.img_to_array(img)\n",
        "    img = np.expand_dims(img, axis=0)\n",
        "    img = img / 255.0  # Normalize the image\n",
        "\n",
        "    # Make predictions\n",
        "    predictions = model.predict(img)\n",
        "    print(predictions)\n",
        "    if predictions[0] > 0.5:\n",
        "        print(\"Real\")\n",
        "    else:\n",
        "        print(\"Fake\")\n"
      ],
      "metadata": {
        "colab": {
          "base_uri": "https://localhost:8080/",
          "height": 819
        },
        "id": "itSuG_nJZSGv",
        "outputId": "188d5291-5eee-4b96-e24e-4d78fb886f06"
      },
      "execution_count": 76,
      "outputs": [
        {
          "output_type": "display_data",
          "data": {
            "text/plain": [
              "<IPython.core.display.HTML object>"
            ],
            "text/html": [
              "\n",
              "     <input type=\"file\" id=\"files-30acd5d2-51e4-4778-846b-d67214a13faa\" name=\"files[]\" multiple disabled\n",
              "        style=\"border:none\" />\n",
              "     <output id=\"result-30acd5d2-51e4-4778-846b-d67214a13faa\">\n",
              "      Upload widget is only available when the cell has been executed in the\n",
              "      current browser session. Please rerun this cell to enable.\n",
              "      </output>\n",
              "      <script>// Copyright 2017 Google LLC\n",
              "//\n",
              "// Licensed under the Apache License, Version 2.0 (the \"License\");\n",
              "// you may not use this file except in compliance with the License.\n",
              "// You may obtain a copy of the License at\n",
              "//\n",
              "//      http://www.apache.org/licenses/LICENSE-2.0\n",
              "//\n",
              "// Unless required by applicable law or agreed to in writing, software\n",
              "// distributed under the License is distributed on an \"AS IS\" BASIS,\n",
              "// WITHOUT WARRANTIES OR CONDITIONS OF ANY KIND, either express or implied.\n",
              "// See the License for the specific language governing permissions and\n",
              "// limitations under the License.\n",
              "\n",
              "/**\n",
              " * @fileoverview Helpers for google.colab Python module.\n",
              " */\n",
              "(function(scope) {\n",
              "function span(text, styleAttributes = {}) {\n",
              "  const element = document.createElement('span');\n",
              "  element.textContent = text;\n",
              "  for (const key of Object.keys(styleAttributes)) {\n",
              "    element.style[key] = styleAttributes[key];\n",
              "  }\n",
              "  return element;\n",
              "}\n",
              "\n",
              "// Max number of bytes which will be uploaded at a time.\n",
              "const MAX_PAYLOAD_SIZE = 100 * 1024;\n",
              "\n",
              "function _uploadFiles(inputId, outputId) {\n",
              "  const steps = uploadFilesStep(inputId, outputId);\n",
              "  const outputElement = document.getElementById(outputId);\n",
              "  // Cache steps on the outputElement to make it available for the next call\n",
              "  // to uploadFilesContinue from Python.\n",
              "  outputElement.steps = steps;\n",
              "\n",
              "  return _uploadFilesContinue(outputId);\n",
              "}\n",
              "\n",
              "// This is roughly an async generator (not supported in the browser yet),\n",
              "// where there are multiple asynchronous steps and the Python side is going\n",
              "// to poll for completion of each step.\n",
              "// This uses a Promise to block the python side on completion of each step,\n",
              "// then passes the result of the previous step as the input to the next step.\n",
              "function _uploadFilesContinue(outputId) {\n",
              "  const outputElement = document.getElementById(outputId);\n",
              "  const steps = outputElement.steps;\n",
              "\n",
              "  const next = steps.next(outputElement.lastPromiseValue);\n",
              "  return Promise.resolve(next.value.promise).then((value) => {\n",
              "    // Cache the last promise value to make it available to the next\n",
              "    // step of the generator.\n",
              "    outputElement.lastPromiseValue = value;\n",
              "    return next.value.response;\n",
              "  });\n",
              "}\n",
              "\n",
              "/**\n",
              " * Generator function which is called between each async step of the upload\n",
              " * process.\n",
              " * @param {string} inputId Element ID of the input file picker element.\n",
              " * @param {string} outputId Element ID of the output display.\n",
              " * @return {!Iterable<!Object>} Iterable of next steps.\n",
              " */\n",
              "function* uploadFilesStep(inputId, outputId) {\n",
              "  const inputElement = document.getElementById(inputId);\n",
              "  inputElement.disabled = false;\n",
              "\n",
              "  const outputElement = document.getElementById(outputId);\n",
              "  outputElement.innerHTML = '';\n",
              "\n",
              "  const pickedPromise = new Promise((resolve) => {\n",
              "    inputElement.addEventListener('change', (e) => {\n",
              "      resolve(e.target.files);\n",
              "    });\n",
              "  });\n",
              "\n",
              "  const cancel = document.createElement('button');\n",
              "  inputElement.parentElement.appendChild(cancel);\n",
              "  cancel.textContent = 'Cancel upload';\n",
              "  const cancelPromise = new Promise((resolve) => {\n",
              "    cancel.onclick = () => {\n",
              "      resolve(null);\n",
              "    };\n",
              "  });\n",
              "\n",
              "  // Wait for the user to pick the files.\n",
              "  const files = yield {\n",
              "    promise: Promise.race([pickedPromise, cancelPromise]),\n",
              "    response: {\n",
              "      action: 'starting',\n",
              "    }\n",
              "  };\n",
              "\n",
              "  cancel.remove();\n",
              "\n",
              "  // Disable the input element since further picks are not allowed.\n",
              "  inputElement.disabled = true;\n",
              "\n",
              "  if (!files) {\n",
              "    return {\n",
              "      response: {\n",
              "        action: 'complete',\n",
              "      }\n",
              "    };\n",
              "  }\n",
              "\n",
              "  for (const file of files) {\n",
              "    const li = document.createElement('li');\n",
              "    li.append(span(file.name, {fontWeight: 'bold'}));\n",
              "    li.append(span(\n",
              "        `(${file.type || 'n/a'}) - ${file.size} bytes, ` +\n",
              "        `last modified: ${\n",
              "            file.lastModifiedDate ? file.lastModifiedDate.toLocaleDateString() :\n",
              "                                    'n/a'} - `));\n",
              "    const percent = span('0% done');\n",
              "    li.appendChild(percent);\n",
              "\n",
              "    outputElement.appendChild(li);\n",
              "\n",
              "    const fileDataPromise = new Promise((resolve) => {\n",
              "      const reader = new FileReader();\n",
              "      reader.onload = (e) => {\n",
              "        resolve(e.target.result);\n",
              "      };\n",
              "      reader.readAsArrayBuffer(file);\n",
              "    });\n",
              "    // Wait for the data to be ready.\n",
              "    let fileData = yield {\n",
              "      promise: fileDataPromise,\n",
              "      response: {\n",
              "        action: 'continue',\n",
              "      }\n",
              "    };\n",
              "\n",
              "    // Use a chunked sending to avoid message size limits. See b/62115660.\n",
              "    let position = 0;\n",
              "    do {\n",
              "      const length = Math.min(fileData.byteLength - position, MAX_PAYLOAD_SIZE);\n",
              "      const chunk = new Uint8Array(fileData, position, length);\n",
              "      position += length;\n",
              "\n",
              "      const base64 = btoa(String.fromCharCode.apply(null, chunk));\n",
              "      yield {\n",
              "        response: {\n",
              "          action: 'append',\n",
              "          file: file.name,\n",
              "          data: base64,\n",
              "        },\n",
              "      };\n",
              "\n",
              "      let percentDone = fileData.byteLength === 0 ?\n",
              "          100 :\n",
              "          Math.round((position / fileData.byteLength) * 100);\n",
              "      percent.textContent = `${percentDone}% done`;\n",
              "\n",
              "    } while (position < fileData.byteLength);\n",
              "  }\n",
              "\n",
              "  // All done.\n",
              "  yield {\n",
              "    response: {\n",
              "      action: 'complete',\n",
              "    }\n",
              "  };\n",
              "}\n",
              "\n",
              "scope.google = scope.google || {};\n",
              "scope.google.colab = scope.google.colab || {};\n",
              "scope.google.colab._files = {\n",
              "  _uploadFiles,\n",
              "  _uploadFilesContinue,\n",
              "};\n",
              "})(self);\n",
              "</script> "
            ]
          },
          "metadata": {}
        },
        {
          "output_type": "stream",
          "name": "stdout",
          "text": [
            "Saving 0997 (4).jpg to 0997 (4) (1).jpg\n",
            "Saving 0997 (5).jpg to 0997 (5) (3).jpg\n",
            "Saving 0997 (6).jpg to 0997 (6) (1).jpg\n",
            "Saving 0997 (7).jpg to 0997 (7).jpg\n",
            "Saving 0997 (8).jpg to 0997 (8) (1).jpg\n",
            "Saving 0997 (9).jpg to 0997 (9).jpg\n",
            "Saving 0997 (10).jpg to 0997 (10).jpg\n",
            "Saving 0997.jpg to 0997 (1).jpg\n",
            "Saving 0998 (2).jpg to 0998 (2).jpg\n",
            "1/1 [==============================] - 0s 27ms/step\n",
            "[[0.9928141]]\n",
            "Real\n",
            "1/1 [==============================] - 0s 28ms/step\n",
            "[[0.29227275]]\n",
            "Fake\n",
            "1/1 [==============================] - 0s 28ms/step\n",
            "[[0.9990656]]\n",
            "Real\n",
            "1/1 [==============================] - 0s 31ms/step\n",
            "[[0.25173023]]\n",
            "Fake\n",
            "1/1 [==============================] - 0s 34ms/step\n",
            "[[0.43923572]]\n",
            "Fake\n",
            "1/1 [==============================] - 0s 28ms/step\n",
            "[[0.5608135]]\n",
            "Real\n",
            "1/1 [==============================] - 0s 30ms/step\n",
            "[[0.99219733]]\n",
            "Real\n",
            "1/1 [==============================] - 0s 27ms/step\n",
            "[[0.24974224]]\n",
            "Fake\n",
            "1/1 [==============================] - 0s 26ms/step\n",
            "[[0.9731458]]\n",
            "Real\n"
          ]
        }
      ]
    }
  ]
}